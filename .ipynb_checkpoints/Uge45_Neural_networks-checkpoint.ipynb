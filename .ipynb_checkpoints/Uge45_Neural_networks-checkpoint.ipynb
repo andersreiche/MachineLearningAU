{
 "cells": [
  {
   "cell_type": "code",
   "execution_count": 5,
   "metadata": {},
   "outputs": [
    {
     "name": "stdout",
     "output_type": "stream",
     "text": [
      "Epoch 1/20\n",
      "1000/1000 [==============================] - 0s 230us/step - loss: 2.4022 - acc: 0.0940\n",
      "Epoch 2/20\n",
      "1000/1000 [==============================] - 0s 14us/step - loss: 2.3424 - acc: 0.1030\n",
      "Epoch 3/20\n",
      "1000/1000 [==============================] - 0s 13us/step - loss: 2.3380 - acc: 0.0920\n",
      "Epoch 4/20\n",
      "1000/1000 [==============================] - 0s 15us/step - loss: 2.3256 - acc: 0.0880\n",
      "Epoch 5/20\n",
      "1000/1000 [==============================] - 0s 16us/step - loss: 2.3124 - acc: 0.1180\n",
      "Epoch 6/20\n",
      "1000/1000 [==============================] - 0s 15us/step - loss: 2.3152 - acc: 0.1110\n",
      "Epoch 7/20\n",
      "1000/1000 [==============================] - 0s 15us/step - loss: 2.3071 - acc: 0.1200\n",
      "Epoch 8/20\n",
      "1000/1000 [==============================] - 0s 15us/step - loss: 2.3133 - acc: 0.1020\n",
      "Epoch 9/20\n",
      "1000/1000 [==============================] - 0s 15us/step - loss: 2.2988 - acc: 0.1060\n",
      "Epoch 10/20\n",
      "1000/1000 [==============================] - 0s 15us/step - loss: 2.3024 - acc: 0.1190\n",
      "Epoch 11/20\n",
      "1000/1000 [==============================] - 0s 14us/step - loss: 2.3052 - acc: 0.1150\n",
      "Epoch 12/20\n",
      "1000/1000 [==============================] - 0s 14us/step - loss: 2.3119 - acc: 0.1040\n",
      "Epoch 13/20\n",
      "1000/1000 [==============================] - 0s 13us/step - loss: 2.3030 - acc: 0.1140\n",
      "Epoch 14/20\n",
      "1000/1000 [==============================] - 0s 15us/step - loss: 2.3033 - acc: 0.1240\n",
      "Epoch 15/20\n",
      "1000/1000 [==============================] - 0s 14us/step - loss: 2.3009 - acc: 0.1100\n",
      "Epoch 16/20\n",
      "1000/1000 [==============================] - 0s 15us/step - loss: 2.2947 - acc: 0.1180\n",
      "Epoch 17/20\n",
      "1000/1000 [==============================] - 0s 18us/step - loss: 2.3044 - acc: 0.1090\n",
      "Epoch 18/20\n",
      "1000/1000 [==============================] - 0s 18us/step - loss: 2.2970 - acc: 0.1230\n",
      "Epoch 19/20\n",
      "1000/1000 [==============================] - 0s 15us/step - loss: 2.2982 - acc: 0.1170\n",
      "Epoch 20/20\n",
      "1000/1000 [==============================] - 0s 14us/step - loss: 2.2954 - acc: 0.1070\n",
      "100/100 [==============================] - 0s 599us/step\n"
     ]
    }
   ],
   "source": [
    "import keras\n",
    "from keras.models import Sequential\n",
    "from keras.layers import Dense, Dropout, Activation\n",
    "from keras.optimizers import SGD #Stochastic gradient descent\n",
    "\n",
    "# Generate dummy data\n",
    "import numpy as np\n",
    "x_train = np.random.random((1000, 20))\n",
    "y_train = keras.utils.to_categorical(np.random.randint(10, size=(1000, 1)), num_classes=10)\n",
    "x_test = np.random.random((100, 20))\n",
    "y_test = keras.utils.to_categorical(np.random.randint(10, size=(100, 1)), num_classes=10)\n",
    "\n",
    "model = Sequential()\n",
    "# Dense(64) is a fully-connected layer with 64 hidden units.\n",
    "# in the first layer, you must specify the expected input data shape:\n",
    "# here, 20-dimensional vectors.\n",
    "model.add(Dense(64, activation='relu', input_dim=20))\n",
    "model.add(Dropout(0.5))\n",
    "model.add(Dense(64, activation='relu'))\n",
    "model.add(Dropout(0.5))\n",
    "model.add(Dense(10, activation='softmax'))\n",
    "\n",
    "sgd = SGD(lr=0.01, decay=1e-6, momentum=0.9, nesterov=True)\n",
    "model.compile(loss='categorical_crossentropy',\n",
    "              optimizer=sgd,\n",
    "              metrics=['accuracy'])\n",
    "\n",
    "model.fit(x_train, y_train,\n",
    "          epochs=20,\n",
    "          batch_size=128)\n",
    "score = model.evaluate(x_test, y_test, batch_size=128)\n",
    "#When using real data, the loss should be smaller than the accuracy, and the accuracy should improve over epochs"
   ]
  },
  {
   "cell_type": "code",
   "execution_count": 6,
   "metadata": {},
   "outputs": [
    {
     "data": {
      "text/plain": [
       "6154"
      ]
     },
     "execution_count": 6,
     "metadata": {},
     "output_type": "execute_result"
    }
   ],
   "source": [
    "model.count_params()"
   ]
  }
 ],
 "metadata": {
  "kernelspec": {
   "display_name": "Python 3",
   "language": "python",
   "name": "python3"
  },
  "language_info": {
   "codemirror_mode": {
    "name": "ipython",
    "version": 3
   },
   "file_extension": ".py",
   "mimetype": "text/x-python",
   "name": "python",
   "nbconvert_exporter": "python",
   "pygments_lexer": "ipython3",
   "version": "3.6.5"
  }
 },
 "nbformat": 4,
 "nbformat_minor": 2
}
