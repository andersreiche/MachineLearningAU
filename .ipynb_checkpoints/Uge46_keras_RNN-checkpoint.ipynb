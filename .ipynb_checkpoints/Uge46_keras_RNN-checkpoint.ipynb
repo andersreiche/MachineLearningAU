{
 "cells": [
  {
   "cell_type": "code",
   "execution_count": 7,
   "metadata": {},
   "outputs": [
    {
     "data": {
      "text/plain": [
       "(10000, 784, 1)"
      ]
     },
     "execution_count": 7,
     "metadata": {},
     "output_type": "execute_result"
    }
   ],
   "source": [
    "import keras\n",
    "from keras.models import Sequential\n",
    "from keras.layers import Conv2D,MaxPooling2D,Dense,Flatten,SimpleRNN\n",
    "from keras.datasets import mnist\n",
    "import keras.backend as be\n",
    "\n",
    "num_classes = 10\n",
    "\n",
    "(x_train,y_train),(x_test,y_test) = mnist.load_data()\n",
    "\n",
    "if be.image_data_format() == \"channels_first\":\n",
    "    x_train = x_train.reshape(x_train.shape[0],1,28,28)\n",
    "    x_test = x_test.reshape(x_test.shape[0],1,28,28)\n",
    "    shape = (1,28,28)\n",
    "else:\n",
    "    x_train = x_train.reshape(x_train.shape[0],28,28,1)\n",
    "    x_test = x_test.reshape(x_test.shape[0],28,28,1)\n",
    "    shape = (28,28,1)\n",
    "\n",
    "#shape the data\n",
    "y_train = keras.utils.to_categorical(y_train,num_classes)\n",
    "y_test = keras.utils.to_categorical(y_test,num_classes)\n",
    "\n",
    "x_train=x_train.astype(\"float32\")\n",
    "x_test=x_test.astype(\"float32\")\n",
    "x_train /= 255.\n",
    "x_test /= 255.\n",
    "x_train = x_train.reshape(60000, 28*28, 1)\n",
    "x_test = x_test.reshape(10000, 28*28, 1)\n",
    "shape = (28*28, 1)"
   ]
  },
  {
   "cell_type": "code",
   "execution_count": 9,
   "metadata": {},
   "outputs": [],
   "source": [
    "#Create the model\n",
    "model = Sequential()\n",
    "\n",
    "inp = SimpleRNN(64, input_shape=shape)\n",
    "model.add(inp)\n",
    "out = Dense(num_classes,activation=\"softmax\")\n",
    "model.add(out)\n",
    "\n",
    "model.compile(optimizer=\"SGD\",loss=\"categorical_crossentropy\",\n",
    "                metrics=[\"accuracy\"])"
   ]
  },
  {
   "cell_type": "code",
   "execution_count": 10,
   "metadata": {},
   "outputs": [
    {
     "name": "stdout",
     "output_type": "stream",
     "text": [
      "Epoch 1/20\n",
      "60000/60000 [==============================] - 65s 1ms/step - loss: 2.3039 - acc: 0.1137\n",
      "Epoch 2/20\n",
      "60000/60000 [==============================] - 65s 1ms/step - loss: 2.3019 - acc: 0.1114\n",
      "Epoch 3/20\n",
      "60000/60000 [==============================] - 65s 1ms/step - loss: 2.3020 - acc: 0.1095\n",
      "Epoch 4/20\n",
      "60000/60000 [==============================] - 65s 1ms/step - loss: 2.3018 - acc: 0.1106\n",
      "Epoch 5/20\n",
      "60000/60000 [==============================] - 65s 1ms/step - loss: 2.3013 - acc: 0.1158\n",
      "Epoch 6/20\n",
      "60000/60000 [==============================] - 65s 1ms/step - loss: 2.2970 - acc: 0.1222\n",
      "Epoch 7/20\n",
      "60000/60000 [==============================] - 65s 1ms/step - loss: 2.3021 - acc: 0.1119\n",
      "Epoch 8/20\n",
      "60000/60000 [==============================] - 65s 1ms/step - loss: 2.3014 - acc: 0.1117\n",
      "Epoch 9/20\n",
      "60000/60000 [==============================] - 65s 1ms/step - loss: 2.3009 - acc: 0.1202\n",
      "Epoch 10/20\n",
      "60000/60000 [==============================] - 65s 1ms/step - loss: 2.2886 - acc: 0.1295\n",
      "Epoch 11/20\n",
      "60000/60000 [==============================] - 65s 1ms/step - loss: 2.2731 - acc: 0.1400\n",
      "Epoch 12/20\n",
      "60000/60000 [==============================] - 65s 1ms/step - loss: 2.2800 - acc: 0.1387\n",
      "Epoch 13/20\n",
      "60000/60000 [==============================] - 65s 1ms/step - loss: 2.2778 - acc: 0.1425\n",
      "Epoch 14/20\n",
      "60000/60000 [==============================] - 65s 1ms/step - loss: 2.2787 - acc: 0.1408\n",
      "Epoch 15/20\n",
      "60000/60000 [==============================] - 65s 1ms/step - loss: 2.2702 - acc: 0.1517\n",
      "Epoch 16/20\n",
      "60000/60000 [==============================] - 66s 1ms/step - loss: 2.2624 - acc: 0.1575\n",
      "Epoch 17/20\n",
      "60000/60000 [==============================] - 66s 1ms/step - loss: 2.2518 - acc: 0.1646\n",
      "Epoch 18/20\n",
      "60000/60000 [==============================] - 66s 1ms/step - loss: 2.2408 - acc: 0.1702\n",
      "Epoch 19/20\n",
      "60000/60000 [==============================] - 66s 1ms/step - loss: 2.2334 - acc: 0.1740\n",
      "Epoch 20/20\n",
      "60000/60000 [==============================] - 66s 1ms/step - loss: 2.2264 - acc: 0.1751\n"
     ]
    },
    {
     "data": {
      "text/plain": [
       "<keras.callbacks.History at 0x7f678cb290f0>"
      ]
     },
     "execution_count": 10,
     "metadata": {},
     "output_type": "execute_result"
    }
   ],
   "source": [
    "#Train the model\n",
    "model.fit(x_train,y_train,epochs=20,batch_size=128)"
   ]
  },
  {
   "cell_type": "code",
   "execution_count": 11,
   "metadata": {},
   "outputs": [
    {
     "name": "stdout",
     "output_type": "stream",
     "text": [
      "10000/10000 [==============================] - 8s 832us/step\n"
     ]
    },
    {
     "data": {
      "text/plain": [
       "[2.19648639793396, 0.2014]"
      ]
     },
     "execution_count": 11,
     "metadata": {},
     "output_type": "execute_result"
    }
   ],
   "source": [
    "model.evaluate(x_test, y_test)"
   ]
  },
  {
   "cell_type": "code",
   "execution_count": null,
   "metadata": {},
   "outputs": [],
   "source": []
  }
 ],
 "metadata": {
  "kernelspec": {
   "display_name": "Python 3",
   "language": "python",
   "name": "python3"
  },
  "language_info": {
   "codemirror_mode": {
    "name": "ipython",
    "version": 3
   },
   "file_extension": ".py",
   "mimetype": "text/x-python",
   "name": "python",
   "nbconvert_exporter": "python",
   "pygments_lexer": "ipython3",
   "version": "3.6.5"
  }
 },
 "nbformat": 4,
 "nbformat_minor": 2
}
