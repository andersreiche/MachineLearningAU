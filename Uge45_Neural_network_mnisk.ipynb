{
 "cells": [
  {
   "cell_type": "code",
   "execution_count": 1,
   "metadata": {},
   "outputs": [
    {
     "name": "stderr",
     "output_type": "stream",
     "text": [
      "Using TensorFlow backend.\n"
     ]
    },
    {
     "name": "stdout",
     "output_type": "stream",
     "text": [
      "_________________________________________________________________\n",
      "Layer (type)                 Output Shape              Param #   \n",
      "=================================================================\n",
      "dense_1 (Dense)              (None, 512)               401920    \n",
      "_________________________________________________________________\n",
      "dropout_1 (Dropout)          (None, 512)               0         \n",
      "_________________________________________________________________\n",
      "dense_2 (Dense)              (None, 512)               262656    \n",
      "_________________________________________________________________\n",
      "dropout_2 (Dropout)          (None, 512)               0         \n",
      "_________________________________________________________________\n",
      "dense_3 (Dense)              (None, 10)                5130      \n",
      "=================================================================\n",
      "Total params: 669,706\n",
      "Trainable params: 669,706\n",
      "Non-trainable params: 0\n",
      "_________________________________________________________________\n",
      "None\n"
     ]
    }
   ],
   "source": [
    "import keras\n",
    "from keras.models import Sequential\n",
    "from keras.layers import Dense, Dropout, Activation\n",
    "from keras.optimizers import SGD\n",
    "from keras.datasets import mnist\n",
    "\n",
    "(x_train,y_train),(x_test,y_test) = mnist.load_data()\n",
    "\n",
    "x_train = x_train.reshape(x_train.shape[0],28*28)\n",
    "x_test = x_test.reshape(x_test.shape[0],28*28)\n",
    "\n",
    "x_train = x_train.astype('float32')\n",
    "x_train = x_train/255.\n",
    "\n",
    "x_test = x_test.astype('float32')\n",
    "x_test = x_test/255.\n",
    "\n",
    "num_classes = 10\n",
    "y_train = keras.utils.to_categorical(y_train, num_classes)\n",
    "y_test = keras.utils.to_categorical(y_test, num_classes)\n",
    "\n",
    "model = Sequential()\n",
    "\n",
    "model.add(Dense(512, activation='relu', input_shape=(28*28,)))\n",
    "model.add(Dropout(0.1))\n",
    "hid = Dense(512, activation='relu')\n",
    "model.add(hid)\n",
    "model.add(Dropout(0.1))\n",
    "out = Dense(10, activation='softmax')\n",
    "model.add(out)\n",
    "print(model.summary())"
   ]
  },
  {
   "cell_type": "code",
   "execution_count": 2,
   "metadata": {},
   "outputs": [
    {
     "name": "stdout",
     "output_type": "stream",
     "text": [
      "(60000, 784)\n"
     ]
    }
   ],
   "source": [
    "sgd = SGD(lr=0.01, decay=1e-6, momentum=0.9, nesterov=True)\n",
    "model.compile(loss='categorical_crossentropy',\n",
    "              optimizer=sgd,\n",
    "              metrics=['accuracy'])\n",
    "print(x_train.shape)"
   ]
  },
  {
   "cell_type": "code",
   "execution_count": 3,
   "metadata": {},
   "outputs": [
    {
     "name": "stdout",
     "output_type": "stream",
     "text": [
      "Train on 60000 samples, validate on 10000 samples\n",
      "Epoch 1/20\n",
      "60000/60000 [==============================] - 4s 72us/step - loss: 0.4517 - acc: 0.8704 - val_loss: 0.2210 - val_acc: 0.9368\n",
      "Epoch 2/20\n",
      "60000/60000 [==============================] - 4s 70us/step - loss: 0.2072 - acc: 0.9400 - val_loss: 0.1536 - val_acc: 0.9549\n",
      "Epoch 3/20\n",
      "60000/60000 [==============================] - 4s 71us/step - loss: 0.1513 - acc: 0.9557 - val_loss: 0.1210 - val_acc: 0.9640\n",
      "Epoch 4/20\n",
      "60000/60000 [==============================] - 4s 68us/step - loss: 0.1191 - acc: 0.9651 - val_loss: 0.1027 - val_acc: 0.9694\n",
      "Epoch 5/20\n",
      "60000/60000 [==============================] - 4s 68us/step - loss: 0.0984 - acc: 0.9709 - val_loss: 0.0904 - val_acc: 0.9722\n",
      "Epoch 6/20\n",
      "60000/60000 [==============================] - 4s 68us/step - loss: 0.0845 - acc: 0.9758 - val_loss: 0.0810 - val_acc: 0.9746\n",
      "Epoch 7/20\n",
      "60000/60000 [==============================] - 4s 70us/step - loss: 0.0730 - acc: 0.9787 - val_loss: 0.0771 - val_acc: 0.9756\n",
      "Epoch 8/20\n",
      "60000/60000 [==============================] - 4s 72us/step - loss: 0.0639 - acc: 0.9809 - val_loss: 0.0710 - val_acc: 0.9787\n",
      "Epoch 9/20\n",
      "60000/60000 [==============================] - 4s 72us/step - loss: 0.0565 - acc: 0.9836 - val_loss: 0.0678 - val_acc: 0.9789\n",
      "Epoch 10/20\n",
      "60000/60000 [==============================] - 4s 72us/step - loss: 0.0501 - acc: 0.9855 - val_loss: 0.0655 - val_acc: 0.9796\n",
      "Epoch 11/20\n",
      "60000/60000 [==============================] - 4s 71us/step - loss: 0.0449 - acc: 0.9866 - val_loss: 0.0638 - val_acc: 0.9798\n",
      "Epoch 12/20\n",
      "60000/60000 [==============================] - 4s 73us/step - loss: 0.0416 - acc: 0.9878 - val_loss: 0.0640 - val_acc: 0.9806\n",
      "Epoch 13/20\n",
      "60000/60000 [==============================] - 4s 73us/step - loss: 0.0367 - acc: 0.9893 - val_loss: 0.0594 - val_acc: 0.9819\n",
      "Epoch 14/20\n",
      "60000/60000 [==============================] - 4s 72us/step - loss: 0.0329 - acc: 0.9903 - val_loss: 0.0630 - val_acc: 0.9797\n",
      "Epoch 15/20\n",
      "60000/60000 [==============================] - 4s 73us/step - loss: 0.0298 - acc: 0.9915 - val_loss: 0.0590 - val_acc: 0.9818\n",
      "Epoch 16/20\n",
      "60000/60000 [==============================] - 4s 72us/step - loss: 0.0271 - acc: 0.9924 - val_loss: 0.0604 - val_acc: 0.9818\n",
      "Epoch 17/20\n",
      "60000/60000 [==============================] - 4s 69us/step - loss: 0.0251 - acc: 0.9932 - val_loss: 0.0606 - val_acc: 0.9819\n",
      "Epoch 18/20\n",
      "60000/60000 [==============================] - 4s 69us/step - loss: 0.0228 - acc: 0.9937 - val_loss: 0.0585 - val_acc: 0.9828\n",
      "Epoch 19/20\n",
      "60000/60000 [==============================] - 4s 69us/step - loss: 0.0212 - acc: 0.9944 - val_loss: 0.0587 - val_acc: 0.9825\n",
      "Epoch 20/20\n",
      "60000/60000 [==============================] - 4s 70us/step - loss: 0.0191 - acc: 0.9950 - val_loss: 0.0582 - val_acc: 0.9830\n",
      "10000/10000 [==============================] - 0s 23us/step\n"
     ]
    }
   ],
   "source": [
    "model.fit(x_train, y_train,\n",
    "          epochs=20,\n",
    "          batch_size=128,\n",
    "          verbose=1,\n",
    "                    validation_data=(x_test, y_test))\n",
    "\n",
    "score = model.evaluate(x_test, y_test, batch_size=128)"
   ]
  },
  {
   "cell_type": "code",
   "execution_count": 4,
   "metadata": {},
   "outputs": [
    {
     "name": "stdout",
     "output_type": "stream",
     "text": [
      "loss: 0.05823647082035895 accuracy: 0.983\n"
     ]
    }
   ],
   "source": [
    "print(f'loss: {score[0]} accuracy: {score[1]}')"
   ]
  },
  {
   "cell_type": "code",
   "execution_count": null,
   "metadata": {},
   "outputs": [],
   "source": []
  }
 ],
 "metadata": {
  "kernelspec": {
   "display_name": "Python 3",
   "language": "python",
   "name": "python3"
  },
  "language_info": {
   "codemirror_mode": {
    "name": "ipython",
    "version": 3
   },
   "file_extension": ".py",
   "mimetype": "text/x-python",
   "name": "python",
   "nbconvert_exporter": "python",
   "pygments_lexer": "ipython3",
   "version": "3.6.5"
  }
 },
 "nbformat": 4,
 "nbformat_minor": 2
}
