{
 "cells": [
  {
   "cell_type": "code",
   "execution_count": 6,
   "metadata": {
    "scrolled": false
   },
   "outputs": [
    {
     "name": "stdout",
     "output_type": "stream",
     "text": [
      "Populating the interactive namespace from numpy and matplotlib\n"
     ]
    }
   ],
   "source": [
    "%pylab inline"
   ]
  },
  {
   "cell_type": "code",
   "execution_count": 7,
   "metadata": {},
   "outputs": [],
   "source": [
    "import sklearn\n",
    "import pandas as pd\n",
    "import codecs\n",
    "\n",
    "root = '/home/anders/ml/BDA2018_aarhus/data/'\n",
    "def read_energi_data(f):\n",
    "    with codecs.open(root+f,encoding='8859') as f:\n",
    "        col = []\n",
    "        l=f.readline().strip()\n",
    "        while l:\n",
    "            col.append(' '.join(l.split()[1:]))\n",
    "            l=f.readline().strip()\n",
    "        \n",
    "        dat = pd.read_csv(f,sep=';', skipinitialspace=True,lineterminator ='\\n',infer_datetime_format=True)\n",
    "        dat = dat.drop(dat.columns[-1],1)\n",
    "        \n",
    "        dat.columns = [dat.columns[0]] + col\n",
    "        dat = dat.set_index(dat.columns[0])\n",
    "    return dat"
   ]
  },
  {
   "cell_type": "code",
   "execution_count": 8,
   "metadata": {},
   "outputs": [],
   "source": [
    "energi = read_energi_data('20161208_onlinedata.txt')\n",
    "co2 = energi['CO2 udledning']"
   ]
  },
  {
   "cell_type": "code",
   "execution_count": 9,
   "metadata": {},
   "outputs": [],
   "source": [
    "energi=energi.drop(['Temperatur i Malling','Vindhastighed i Malling'],axis=1)\n",
    "energi=energi.drop('CO2 udledning',axis=1)\n",
    "energi=energi.drop('Havmøller DK',axis=1)\n",
    "energi=energi.drop('Landmøller DK',axis=1)"
   ]
  },
  {
   "cell_type": "code",
   "execution_count": 10,
   "metadata": {},
   "outputs": [],
   "source": [
    "from sklearn.svm import SVR\n",
    "svr_model = SVR(kernel='linear')\n",
    "svr_model_non = SVR(kernel='rbf')"
   ]
  },
  {
   "cell_type": "code",
   "execution_count": 11,
   "metadata": {},
   "outputs": [
    {
     "data": {
      "text/plain": [
       "SVR(C=1.0, cache_size=200, coef0=0.0, degree=3, epsilon=0.1, gamma='auto',\n",
       "  kernel='rbf', max_iter=-1, shrinking=True, tol=0.001, verbose=False)"
      ]
     },
     "execution_count": 11,
     "metadata": {},
     "output_type": "execute_result"
    }
   ],
   "source": [
    "#Training these takes a LONG time!\n",
    "svr_model.fit(energi,co2)\n",
    "svr_model_non.fit(energi,co2)"
   ]
  },
  {
   "cell_type": "code",
   "execution_count": 12,
   "metadata": {},
   "outputs": [
    {
     "data": {
      "text/plain": [
       "[<matplotlib.lines.Line2D at 0x7fd3d791fe48>]"
      ]
     },
     "execution_count": 12,
     "metadata": {},
     "output_type": "execute_result"
    },
    {
     "data": {
      "image/png": "[encoded data removed]",
      "text/plain": [
       "<Figure size 432x288 with 1 Axes>"
      ]
     },
     "metadata": {},
     "output_type": "display_data"
    }
   ],
   "source": [
    "predict = svr_model.predict(energi)\n",
    "predict_non = svr_model_non.predict(energi)\n",
    "plot(predict)\n",
    "co2.plot()\n",
    "plot(predict_non)"
   ]
  },
  {
   "cell_type": "code",
   "execution_count": 13,
   "metadata": {},
   "outputs": [
    {
     "data": {
      "text/plain": [
       "0.9922806916061307"
      ]
     },
     "execution_count": 13,
     "metadata": {},
     "output_type": "execute_result"
    }
   ],
   "source": [
    "svr_model.score(energi,co2)"
   ]
  },
  {
   "cell_type": "code",
   "execution_count": 14,
   "metadata": {},
   "outputs": [
    {
     "data": {
      "text/plain": [
       "-0.07538305465529715"
      ]
     },
     "execution_count": 14,
     "metadata": {},
     "output_type": "execute_result"
    }
   ],
   "source": [
    "svr_model_non.score(energi,co2)"
   ]
  }
 ],
 "metadata": {
  "kernelspec": {
   "display_name": "Python 3",
   "language": "python",
   "name": "python3"
  },
  "language_info": {
   "codemirror_mode": {
    "name": "ipython",
    "version": 3
   },
   "file_extension": ".py",
   "mimetype": "text/x-python",
   "name": "python",
   "nbconvert_exporter": "python",
   "pygments_lexer": "ipython3",
   "version": "3.6.5"
  }
 },
 "nbformat": 4,
 "nbformat_minor": 2
}
